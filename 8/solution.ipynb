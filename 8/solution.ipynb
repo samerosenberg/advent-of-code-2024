{
 "cells": [
  {
   "cell_type": "markdown",
   "metadata": {},
   "source": [
    "# Day 8: Resonant Collinearity\n",
    "\n",
    "[Day 8](https://adventofcode.com/2024/day/8)\n",
    "\n",
    "## Part 1"
   ]
  },
  {
   "cell_type": "code",
   "execution_count": 21,
   "metadata": {},
   "outputs": [
    {
     "name": "stdout",
     "output_type": "stream",
     "text": [
      "252\n"
     ]
    }
   ],
   "source": [
    "def load_grid(file_path):\n",
    "    with open(file_path, 'r') as f:\n",
    "        return [list(line.strip()) for line in f]\n",
    "\n",
    "\n",
    "def find_antinodes(grid):\n",
    "    antennas = {}\n",
    "    overlapping_antenna_antinodes = []\n",
    "    for i in range(len(grid)):\n",
    "        for j in range(len(grid[i])):\n",
    "            if grid[i][j] != \".\" and grid[i][j] != \"#\":\n",
    "                if grid[i][j] not in antennas:\n",
    "                    antennas[grid[i][j]] = [(i, j)]\n",
    "                else:\n",
    "                    #find distance between antenna and current node\n",
    "                    for antenna in antennas[grid[i][j]]:\n",
    "                        #print(f\"Antenna at {antenna} is connected to {i}, {j}\")\n",
    "                        antinode_offset = (i - antenna[0] ),(j - antenna[1])\n",
    "                        new_row, new_col = i + antinode_offset[0], j + antinode_offset[1]\n",
    "                        if 0 <= new_row < len(grid) and 0 <= new_col < len(grid[0]):\n",
    "                            if grid[new_row][new_col] == \".\":\n",
    "                                #print(f\"Antinode set at {new_row}, {new_col}\")\n",
    "                                grid[new_row][new_col] = \"#\"\n",
    "                            elif grid[new_row][new_col] != \"#\" and (new_row, new_col) not in overlapping_antenna_antinodes:\n",
    "                                overlapping_antenna_antinodes.append((new_row, new_col))\n",
    "                        new_row, new_col = antenna[0] - antinode_offset[0], antenna[1] - antinode_offset[1]\n",
    "                        if 0 <= new_row < len(grid) and 0 <= new_col < len(grid[0]):\n",
    "                            if grid[new_row][new_col] == \".\":\n",
    "                                #print(f\"Antinode set at {new_row}, {new_col}\")\n",
    "                                grid[new_row][new_col] = \"#\"\n",
    "                            elif grid[new_row][new_col] != \"#\" and (new_row, new_col) not in overlapping_antenna_antinodes:\n",
    "                                overlapping_antenna_antinodes.append((new_row, new_col))\n",
    "                    # if grid[i][j] == \"O\":\n",
    "                    #     return grid\n",
    "                    antennas[grid[i][j]].append((i, j))\n",
    "    return grid, overlapping_antenna_antinodes\n",
    "\n",
    "\n",
    "grid = load_grid(\"input.txt\")\n",
    "final_grid, overlapping_antenna_antinodes = find_antinodes(grid)\n",
    "\n",
    "# for row in final_grid:\n",
    "#     print(\"\".join(row))\n",
    "\n",
    "total_antinodes = 0\n",
    "\n",
    "for row in final_grid:\n",
    "    for col in row:\n",
    "        if col == \"#\":\n",
    "            total_antinodes += 1\n",
    "\n",
    "print(total_antinodes + len(overlapping_antenna_antinodes))\n",
    "\n"
   ]
  },
  {
   "cell_type": "markdown",
   "metadata": {},
   "source": [
    "## Part 2"
   ]
  },
  {
   "cell_type": "code",
   "execution_count": 20,
   "metadata": {},
   "outputs": [
    {
     "name": "stdout",
     "output_type": "stream",
     "text": [
      "839\n"
     ]
    }
   ],
   "source": [
    "def find_antinodes(grid):\n",
    "    antennas = {}\n",
    "    overlapping_antenna_antinodes = []\n",
    "    for i in range(len(grid)):\n",
    "        for j in range(len(grid[i])):\n",
    "            if grid[i][j] != \".\" and grid[i][j] != \"#\":\n",
    "                if grid[i][j] not in antennas:\n",
    "                    antennas[grid[i][j]] = [(i, j)]\n",
    "                else:\n",
    "                    #find distance between antenna and current node\n",
    "                    for antenna in antennas[grid[i][j]]:\n",
    "                        #print(f\"Antenna at {antenna} is connected to {i}, {j}\")\n",
    "                        antinode_offset = (i - antenna[0] ),(j - antenna[1])\n",
    "\n",
    "                        new_row, new_col = i + antinode_offset[0], j + antinode_offset[1]\n",
    "                        while 0 <= new_row < len(grid) and 0 <= new_col < len(grid[0]):\n",
    "                            if grid[new_row][new_col] == \".\":\n",
    "                                #print(f\"Antinode set at {new_row}, {new_col}\")\n",
    "                                grid[new_row][new_col] = \"#\"\n",
    "                            elif grid[new_row][new_col] != \"#\" and (new_row, new_col) not in overlapping_antenna_antinodes:\n",
    "                                overlapping_antenna_antinodes.append((new_row, new_col))\n",
    "                            new_row, new_col = new_row + antinode_offset[0], new_col + antinode_offset[1]\n",
    "\n",
    "                        new_row, new_col = antenna[0] - antinode_offset[0], antenna[1] - antinode_offset[1]\n",
    "                        while 0 <= new_row < len(grid) and 0 <= new_col < len(grid[0]):\n",
    "                            if grid[new_row][new_col] == \".\":\n",
    "                                #print(f\"Antinode set at {new_row}, {new_col}\")\n",
    "                                grid[new_row][new_col] = \"#\"\n",
    "                            elif grid[new_row][new_col] != \"#\" and (new_row, new_col) not in overlapping_antenna_antinodes:\n",
    "                                overlapping_antenna_antinodes.append((new_row, new_col))\n",
    "                            new_row, new_col = new_row - antinode_offset[0], new_col - antinode_offset[1]\n",
    "                    #return grid, overlapping_antenna_antinodes\n",
    "                    antennas[grid[i][j]].append((i, j))\n",
    "    return grid, overlapping_antenna_antinodes\n",
    "\n",
    "\n",
    "grid = load_grid(\"input.txt\")\n",
    "final_grid, overlapping_antenna_antinodes = find_antinodes(grid)\n",
    "\n",
    "total_antinodes = 0\n",
    "\n",
    "for row in final_grid:\n",
    "    for col in row:\n",
    "        if col != \".\":\n",
    "            total_antinodes += 1\n",
    "\n",
    "print(total_antinodes)"
   ]
  }
 ],
 "metadata": {
  "kernelspec": {
   "display_name": "Python 3",
   "language": "python",
   "name": "python3"
  },
  "language_info": {
   "codemirror_mode": {
    "name": "ipython",
    "version": 3
   },
   "file_extension": ".py",
   "mimetype": "text/x-python",
   "name": "python",
   "nbconvert_exporter": "python",
   "pygments_lexer": "ipython3",
   "version": "3.8.16"
  }
 },
 "nbformat": 4,
 "nbformat_minor": 2
}
