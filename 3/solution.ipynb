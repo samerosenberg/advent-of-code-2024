{
 "cells": [
  {
   "cell_type": "markdown",
   "metadata": {},
   "source": [
    "# Day 3: Mull It Over\n",
    "\n",
    "[Day 3](https://adventofcode.com/2024/day/3)\n",
    "\n",
    "## Part 1"
   ]
  },
  {
   "cell_type": "code",
   "execution_count": 9,
   "metadata": {},
   "outputs": [
    {
     "name": "stdout",
     "output_type": "stream",
     "text": [
      "175615763\n"
     ]
    }
   ],
   "source": [
    "import re\n",
    "\n",
    "with open(\"input.txt\") as f:\n",
    "    mul_input = f.read()\n",
    "\n",
    "mul_pattern = r\"mul[(]\\d+,\\d+[)]\"\n",
    "\n",
    "mul_valids = re.findall(mul_pattern, mul_input)\n",
    "\n",
    "mul_sums = 0\n",
    "\n",
    "for mul_valid in mul_valids:\n",
    "    mul_int_1 = int(mul_valid.replace(\"mul(\", \"\").replace(\")\", \"\").split(\",\")[0])\n",
    "    mul_int_2 = int(mul_valid.replace(\"mul(\", \"\").replace(\")\", \"\").split(\",\")[1])\n",
    "    mul_sums += mul_int_1 * mul_int_2\n",
    "\n",
    "print(mul_sums)"
   ]
  },
  {
   "cell_type": "markdown",
   "metadata": {},
   "source": [
    "## Part 2"
   ]
  },
  {
   "cell_type": "code",
   "execution_count": 25,
   "metadata": {},
   "outputs": [
    {
     "name": "stdout",
     "output_type": "stream",
     "text": [
      "74361272\n"
     ]
    }
   ],
   "source": [
    "do_pattern = r\"do\\(\\)\"\n",
    "dont_pattern = r\"don't\\(\\)\" \n",
    "\n",
    "combined_pattern = r\"{do_pattern}|{dont_pattern}|{mul_pattern}\".format(do_pattern=do_pattern, dont_pattern=dont_pattern, mul_pattern=mul_pattern)\n",
    "\n",
    "mul_valids_do_dont = re.findall(combined_pattern, mul_input)\n",
    "\n",
    "mul_do_dont_sums = 0\n",
    "\n",
    "do = True\n",
    "\n",
    "for do_dont_mul in mul_valids_do_dont:\n",
    "    if re.match(dont_pattern, do_dont_mul):\n",
    "        do = False\n",
    "        continue\n",
    "    elif re.match(do_pattern, do_dont_mul):\n",
    "        do = True\n",
    "        continue\n",
    "    if do:\n",
    "        mul_int_1 = int(do_dont_mul.replace(\"mul(\", \"\").replace(\")\", \"\").split(\",\")[0])\n",
    "        mul_int_2 = int(do_dont_mul.replace(\"mul(\", \"\").replace(\")\", \"\").split(\",\")[1])\n",
    "        mul_do_dont_sums += mul_int_1 * mul_int_2\n",
    "    \n",
    "print(mul_do_dont_sums)\n"
   ]
  },
  {
   "cell_type": "code",
   "execution_count": null,
   "metadata": {},
   "outputs": [],
   "source": []
  }
 ],
 "metadata": {
  "kernelspec": {
   "display_name": "Python 3",
   "language": "python",
   "name": "python3"
  },
  "language_info": {
   "codemirror_mode": {
    "name": "ipython",
    "version": 3
   },
   "file_extension": ".py",
   "mimetype": "text/x-python",
   "name": "python",
   "nbconvert_exporter": "python",
   "pygments_lexer": "ipython3",
   "version": "3.8.16"
  }
 },
 "nbformat": 4,
 "nbformat_minor": 2
}
