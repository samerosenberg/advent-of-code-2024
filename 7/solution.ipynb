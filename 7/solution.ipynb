{
 "cells": [
  {
   "cell_type": "markdown",
   "metadata": {},
   "source": [
    "# Day 7: Bridge Repair\n",
    "\n",
    "[Day 7](https://adventofcode.com/2024/day/7)\n",
    "\n",
    "## Part 1"
   ]
  },
  {
   "cell_type": "code",
   "execution_count": 58,
   "metadata": {},
   "outputs": [],
   "source": [
    "def is_equation_valid(prod_sum, values, operators):\n",
    "    for operator_combo in product(operators, repeat=len(values) - 1):\n",
    "        running_sum_prod = 0\n",
    "        operator_combo = (\"+\",) + operator_combo\n",
    "        for i,value in enumerate(values):\n",
    "            operator = operator_combo[i]\n",
    "            if(operator == \"||\"):\n",
    "                running_sum_prod = int(str(running_sum_prod) + str(value))\n",
    "            elif operator == \"+\":\n",
    "                running_sum_prod += value\n",
    "            elif operator == \"*\":\n",
    "                running_sum_prod *= value\n",
    "            if(running_sum_prod > prod_sum): \n",
    "                break\n",
    "        if running_sum_prod == prod_sum:\n",
    "            return (True, operator_combo)\n",
    "    return (False, None)"
   ]
  },
  {
   "cell_type": "code",
   "execution_count": 61,
   "metadata": {},
   "outputs": [
    {
     "name": "stdout",
     "output_type": "stream",
     "text": [
      "6083020304036\n"
     ]
    }
   ],
   "source": [
    "from itertools import product\n",
    "\n",
    "valid_equation_sum = 0\n",
    "\n",
    "with(open(\"input.txt\", \"r\")) as f:\n",
    "    operators = [\"*\", \"+\"]\n",
    "    for line in f:\n",
    "        equation = line.strip()\n",
    "        prod_sum = int(equation.split(\":\")[0])\n",
    "        values = [int(x) for x in equation.split(\":\")[1].split()]\n",
    "        #print(prod_sum, values)\n",
    "        valid, equation_list = is_equation_valid(prod_sum, values, operators)\n",
    "        if(valid):\n",
    "            #print(prod_sum, values, equation_list)\n",
    "            valid_equation_sum += prod_sum\n",
    "\n",
    "print(valid_equation_sum)\n",
    "\n"
   ]
  },
  {
   "cell_type": "markdown",
   "metadata": {},
   "source": [
    "## Part 2"
   ]
  },
  {
   "cell_type": "code",
   "execution_count": 64,
   "metadata": {},
   "outputs": [
    {
     "name": "stdout",
     "output_type": "stream",
     "text": [
      "59002246504791\n"
     ]
    }
   ],
   "source": [
    "valid_equation_sum = 0\n",
    "\n",
    "with(open(\"input.txt\", \"r\")) as f:\n",
    "    operators = [\"*\", \"+\"]\n",
    "    operators_with_join = [\"*\", \"+\", \"||\"]\n",
    "    for line in f:\n",
    "        equation = line.strip()\n",
    "        prod_sum = int(equation.split(\":\")[0])\n",
    "        values = [int(x) for x in equation.split(\":\")[1].split()]\n",
    "        #print(prod_sum, values)\n",
    "        valid, equation_list = is_equation_valid(prod_sum, values, operators)\n",
    "        if(valid):\n",
    "            #print(prod_sum, values, equation_list)\n",
    "            valid_equation_sum += prod_sum\n",
    "        else:\n",
    "            valid, equation_list = is_equation_valid(prod_sum, values, operators_with_join)\n",
    "            if(valid):\n",
    "                #print(prod_sum, values, equation_list)\n",
    "                valid_equation_sum += prod_sum\n",
    "                \n",
    "print(valid_equation_sum)"
   ]
  }
 ],
 "metadata": {
  "kernelspec": {
   "display_name": "Python 3",
   "language": "python",
   "name": "python3"
  },
  "language_info": {
   "codemirror_mode": {
    "name": "ipython",
    "version": 3
   },
   "file_extension": ".py",
   "mimetype": "text/x-python",
   "name": "python",
   "nbconvert_exporter": "python",
   "pygments_lexer": "ipython3",
   "version": "3.8.16"
  }
 },
 "nbformat": 4,
 "nbformat_minor": 2
}
