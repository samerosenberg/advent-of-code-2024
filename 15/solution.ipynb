{
 "cells": [
  {
   "cell_type": "markdown",
   "metadata": {},
   "source": [
    "# Day 15: Warehouse Woes\n",
    "\n",
    "[Day 15](https://adventofcode.com/2024/day/15)\n",
    "\n",
    "## Part 1"
   ]
  },
  {
   "cell_type": "code",
   "execution_count": 26,
   "metadata": {},
   "outputs": [
    {
     "name": "stdout",
     "output_type": "stream",
     "text": [
      "1527563\n"
     ]
    }
   ],
   "source": [
    "def load_grid_and_moves(file_path):\n",
    "    with open(file_path, 'r') as f:\n",
    "        grid = []\n",
    "        moves = []\n",
    "        grid_read = False\n",
    "        for line in f:\n",
    "            if line.strip() == \"\":\n",
    "                grid_read = True\n",
    "                continue\n",
    "            if grid_read:\n",
    "                moves.extend(list(line.strip()))\n",
    "            else:\n",
    "                grid.append([x for x in line.strip()])\n",
    "    return grid, moves\n",
    "\n",
    "def find_starting_position(grid):\n",
    "    for row in range(len(grid)):\n",
    "        for col in range(len(grid[0])):\n",
    "            if grid[row][col] == '@':\n",
    "                return (row, col)\n",
    "\n",
    "def perform_moves(grid, moves, row, col):\n",
    "    for move in moves:\n",
    "        if move == \"^\":\n",
    "            grid, row, col = move_stuff(grid, row, col, -1, 0)\n",
    "        elif move == \"v\":\n",
    "            grid, row, col = move_stuff(grid, row, col, 1, 0)\n",
    "        elif move == \">\":\n",
    "            grid, row, col = move_stuff(grid, row, col, 0, 1)\n",
    "        elif move == \"<\":\n",
    "            grid, row, col = move_stuff(grid, row, col, 0, -1)\n",
    "    return grid\n",
    "\n",
    "\n",
    "def move_stuff(grid, row, col, row_move, col_move):\n",
    "    stack = []\n",
    "    stack.append((row, col))\n",
    "    row += row_move\n",
    "    col += col_move\n",
    "    moved = False\n",
    "    while not moved:\n",
    "        if grid[row][col] == '.':\n",
    "            if len(stack) > 0:\n",
    "                row, col = stack.pop()\n",
    "            if len(stack) > 0:\n",
    "                grid[row + row_move][col + col_move] = 'O'\n",
    "                grid[row][col] = '.'\n",
    "            else:\n",
    "                grid[row + row_move][col + col_move] = '@'\n",
    "                grid[row][col] = '.'\n",
    "                row += row_move\n",
    "                col += col_move\n",
    "                moved = True\n",
    "        elif grid[row][col] == 'O':\n",
    "            stack.append((row, col))\n",
    "            row += row_move\n",
    "            col += col_move\n",
    "        elif grid[row][col] == '#':\n",
    "            row, col = stack[0]\n",
    "            moved = True\n",
    "    return grid, row, col\n",
    "        \n",
    "def sum_gps(grid):\n",
    "    gps = 0 \n",
    "    for row in range(len(grid)):\n",
    "        for col in range(len(grid[0])):\n",
    "            if grid[row][col] == 'O':\n",
    "                gps += 100*row + col\n",
    "    return gps\n",
    "\n",
    "grid, moves = load_grid_and_moves(\"input.txt\")\n",
    "starting_position = find_starting_position(grid)\n",
    "\n",
    "after_moves_grid = perform_moves(grid, moves, starting_position[0], starting_position[1])\n",
    "\n",
    "# for row in after_moves_grid:\n",
    "#     print(\"\".join(row))\n",
    "\n",
    "print(sum_gps(after_moves_grid))"
   ]
  },
  {
   "cell_type": "markdown",
   "metadata": {},
   "source": [
    "## Part 2"
   ]
  },
  {
   "cell_type": "code",
   "execution_count": null,
   "metadata": {},
   "outputs": [],
   "source": []
  }
 ],
 "metadata": {
  "kernelspec": {
   "display_name": "Python 3",
   "language": "python",
   "name": "python3"
  },
  "language_info": {
   "codemirror_mode": {
    "name": "ipython",
    "version": 3
   },
   "file_extension": ".py",
   "mimetype": "text/x-python",
   "name": "python",
   "nbconvert_exporter": "python",
   "pygments_lexer": "ipython3",
   "version": "3.8.16"
  }
 },
 "nbformat": 4,
 "nbformat_minor": 2
}
