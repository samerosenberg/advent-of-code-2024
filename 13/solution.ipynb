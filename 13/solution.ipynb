{
 "cells": [
  {
   "cell_type": "markdown",
   "metadata": {},
   "source": [
    "# Day 13: Claw Contraption\n",
    "\n",
    "[Day 13](https://adventofcode.com/2024/day/13)\n",
    "\n",
    "## Part 1"
   ]
  },
  {
   "cell_type": "code",
   "execution_count": 26,
   "metadata": {},
   "outputs": [],
   "source": [
    "class ClawMachine:\n",
    "\n",
    "\n",
    "    def __init__(self, ax, ay, bx, by, prizex, prizey):\n",
    "        self.ax = ax\n",
    "        self.ay = ay\n",
    "        self.bx = bx\n",
    "        self.by = by\n",
    "        self.prizex = prizex\n",
    "        self.prizey = prizey\n",
    "\n",
    "    def __str__(self):\n",
    "        return f\"ClawMachine(ax={self.ax}, ay={self.ay}, bx={self.bx}, by={self.by}, prizex={self.prizex}, prizey={self.prizey})\"\n",
    "    "
   ]
  },
  {
   "cell_type": "code",
   "execution_count": 42,
   "metadata": {},
   "outputs": [
    {
     "name": "stdout",
     "output_type": "stream",
     "text": [
      "30973\n"
     ]
    }
   ],
   "source": [
    "import math\n",
    "\n",
    "def load_claw_machines(file_path, prize_increase=0):\n",
    "    claw_machines = []\n",
    "    with open(file_path, \"r\") as f:\n",
    "        lines = f.readlines()\n",
    "        i=0\n",
    "        while i < len(lines):\n",
    "            claw_machine_rules = lines[i:i+3]\n",
    "            a_machine_rules = [int(part.split('+')[1]) for part in claw_machine_rules[0].split(', ')]\n",
    "            b_machine_rules = [int(part.split('+')[1]) for part in claw_machine_rules[1].split(', ')]\n",
    "            prize_rules = [prize_increase + int(part.split('=')[1]) for part in claw_machine_rules[2].split(', ')]\n",
    "            claw_machines.append(ClawMachine(a_machine_rules[0],a_machine_rules[1], b_machine_rules[0], b_machine_rules[1], prize_rules[0], prize_rules[1]))\n",
    "            i+=4\n",
    "    return claw_machines\n",
    "\n",
    "def calculate_claw_machine_moves(claw_machine):\n",
    "    b_presses = ((claw_machine.prizey * claw_machine.ax) - (claw_machine.ay * claw_machine.prizex )) / ((claw_machine.by * claw_machine.ax) - (claw_machine.bx * claw_machine.ay))  \n",
    "    a_presses = (claw_machine.prizex - (claw_machine.bx * b_presses)) / claw_machine.ax\n",
    "    return a_presses, b_presses\n",
    "\n",
    "def calculate_claw_machine_price(claw_machines):\n",
    "    tokens = 0\n",
    "    for claw_machine in claw_machines:\n",
    "        a_presses, b_presses = calculate_claw_machine_moves(claw_machine)\n",
    "        if abs(a_presses - round(a_presses)) < 1e-9 and abs(b_presses - round(b_presses)) < 1e-9:\n",
    "            tokens += round(a_presses) * 3 + round(b_presses)\n",
    "            #print(f\"Claw machine with prize ({claw_machine.prizex}, {claw_machine.prizey}) has {a_presses} presses of A and {b_presses} presses of B\")\n",
    "    return tokens\n",
    "\n",
    "claw_machines = load_claw_machines(\"input.txt\")\n",
    "\n",
    "print(calculate_claw_machine_price(claw_machines))"
   ]
  },
  {
   "cell_type": "markdown",
   "metadata": {},
   "source": [
    "## Part 2"
   ]
  },
  {
   "cell_type": "code",
   "execution_count": null,
   "metadata": {},
   "outputs": [
    {
     "name": "stdout",
     "output_type": "stream",
     "text": [
      "95688837203288\n"
     ]
    }
   ],
   "source": [
    "claw_machines = load_claw_machines(\"input.txt\", 10000000000000)\n",
    "\n",
    "print(calculate_claw_machine_price(claw_machines))"
   ]
  }
 ],
 "metadata": {
  "kernelspec": {
   "display_name": "Python 3",
   "language": "python",
   "name": "python3"
  },
  "language_info": {
   "codemirror_mode": {
    "name": "ipython",
    "version": 3
   },
   "file_extension": ".py",
   "mimetype": "text/x-python",
   "name": "python",
   "nbconvert_exporter": "python",
   "pygments_lexer": "ipython3",
   "version": "3.8.16"
  }
 },
 "nbformat": 4,
 "nbformat_minor": 2
}
