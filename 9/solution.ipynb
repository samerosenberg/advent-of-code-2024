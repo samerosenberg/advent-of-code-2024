{
 "cells": [
  {
   "cell_type": "markdown",
   "metadata": {},
   "source": [
    "# Day 9: Disk Fragmenter\n",
    "\n",
    "[Day 9](https://adventofcode.com/2024/day/9)\n",
    "\n",
    "## Part 1"
   ]
  },
  {
   "cell_type": "code",
   "execution_count": 16,
   "metadata": {},
   "outputs": [
    {
     "name": "stdout",
     "output_type": "stream",
     "text": [
      "6435922584968\n"
     ]
    }
   ],
   "source": [
    "def load_block_map(file_path):\n",
    "    block_map = []\n",
    "    block_size_map = {}\n",
    "    with open(\"input.txt\", \"r\") as f:\n",
    "        input = f.read().strip()\n",
    "        id = 0\n",
    "        for i,space in enumerate(input):\n",
    "            if i % 2 == 0:\n",
    "                block_map += [id]*int(space)\n",
    "                block_size_map[id] = int(space)\n",
    "                id += 1\n",
    "            else:\n",
    "                block_map += ['.']*int(space)\n",
    "    return block_map, block_size_map\n",
    "\n",
    "def condense_block_map(block_map):\n",
    "    end = len(block_map) - 1\n",
    "    start = 0\n",
    "    while start < end:\n",
    "        if block_map[end] == '.':\n",
    "            end -= 1\n",
    "        elif block_map[start] == '.':\n",
    "            block_map[start] = block_map[end]\n",
    "            block_map[end] = '.'\n",
    "            end -=1\n",
    "            start += 1\n",
    "        else:\n",
    "            start += 1\n",
    "    return block_map\n",
    "\n",
    "block_map, _= load_block_map(\"input.txt\")\n",
    "condensed_block_map = condense_block_map(block_map)\n",
    "\n",
    "filesystem_checksum = 0\n",
    "\n",
    "for i in range(len(condensed_block_map)):\n",
    "    if condensed_block_map[i] == '.':\n",
    "        break\n",
    "    else:\n",
    "        filesystem_checksum += i * int(condensed_block_map[i])\n",
    "\n",
    "print(filesystem_checksum)"
   ]
  },
  {
   "cell_type": "markdown",
   "metadata": {},
   "source": [
    "## Part 2"
   ]
  },
  {
   "cell_type": "code",
   "execution_count": 35,
   "metadata": {},
   "outputs": [
    {
     "name": "stdout",
     "output_type": "stream",
     "text": [
      "6469665501354\n"
     ]
    }
   ],
   "source": [
    "block_map, block_size_map= load_block_map(\"input.txt\")\n",
    "\n",
    "def smart_condense_block_map(block_map, block_size_map):\n",
    "    start = 0\n",
    "    end = len(block_map) - 1\n",
    "    start_free_space, end_free_space = 0, 0\n",
    "    checking_free_space = False\n",
    "    while start < end:\n",
    "        if block_map[start] == '.' and not checking_free_space:\n",
    "            start_free_space = start\n",
    "            checking_free_space = True\n",
    "            start += 1\n",
    "        elif checking_free_space and block_map[start] != '.':\n",
    "            checking_free_space = False\n",
    "            end_free_space = start\n",
    "        elif not checking_free_space and start_free_space != 0:\n",
    "            free_space = end_free_space - start_free_space\n",
    "            while free_space > 0:\n",
    "                found_block = False\n",
    "                for key,value in reversed(block_size_map.items()):\n",
    "                    if value <= free_space:\n",
    "                        found_block = True\n",
    "                        #print(f\"Moving {key} to {start_free_space}\")\n",
    "                        for i in range(len(block_map)):\n",
    "                            if block_map[i] == key:\n",
    "                                block_map[i] = '.'\n",
    "                        block_map[start_free_space:start_free_space+value] = [key] * value\n",
    "                        free_space -= value\n",
    "                        start_free_space += value\n",
    "                        block_size_map.pop(key)\n",
    "                        break\n",
    "                if not found_block:\n",
    "                    break\n",
    "            start = end_free_space\n",
    "            start_free_space, end_free_space = 0, 0\n",
    "        else:\n",
    "            start += 1\n",
    "    return block_map, block_size_map\n",
    "\n",
    "smart_condensed_block_map, block_size_map = smart_condense_block_map(block_map, block_size_map) \n",
    "\n",
    "#print(smart_condensed_block_map)\n",
    "            \n",
    "        \n",
    "filesystem_checksum = 0\n",
    "\n",
    "for i in range(len(smart_condensed_block_map)):\n",
    "    if smart_condensed_block_map[i] != '.':\n",
    "        filesystem_checksum += i * int(smart_condensed_block_map[i])\n",
    "\n",
    "print(filesystem_checksum)"
   ]
  }
 ],
 "metadata": {
  "kernelspec": {
   "display_name": "Python 3",
   "language": "python",
   "name": "python3"
  },
  "language_info": {
   "codemirror_mode": {
    "name": "ipython",
    "version": 3
   },
   "file_extension": ".py",
   "mimetype": "text/x-python",
   "name": "python",
   "nbconvert_exporter": "python",
   "pygments_lexer": "ipython3",
   "version": "3.8.16"
  }
 },
 "nbformat": 4,
 "nbformat_minor": 2
}
