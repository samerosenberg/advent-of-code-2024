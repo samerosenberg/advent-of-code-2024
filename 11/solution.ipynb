{
 "cells": [
  {
   "cell_type": "markdown",
   "metadata": {},
   "source": [
    "# Day 11: Plutonian Pebbles\n",
    "\n",
    "[Day 11](https://adventofcode.com/2024/day/11)\n",
    "\n",
    "## Part 1"
   ]
  },
  {
   "cell_type": "code",
   "execution_count": 15,
   "metadata": {},
   "outputs": [
    {
     "name": "stdout",
     "output_type": "stream",
     "text": [
      "233875\n"
     ]
    }
   ],
   "source": [
    "stones = []\n",
    "\n",
    "with (open(\"input.txt\", \"r\")) as f:\n",
    "    stones = [int(x) for x in f.read().split()]\n",
    "\n",
    "def blink(stones):\n",
    "    i=0\n",
    "    for i in range(len(stones)):\n",
    "        stone = stones[i]\n",
    "        if stone == 0:\n",
    "            stones[i] = 1\n",
    "        elif len(str(stone)) % 2 == 0:\n",
    "            stones[i] = int(str(stone)[:len(str(stone)) // 2])\n",
    "            stones.append(int(str(stone)[len(str(stone)) // 2:]))\n",
    "        else:\n",
    "            stones[i] = stone * 2024\n",
    "    return stones\n",
    "\n",
    "for i in range(25):\n",
    "    #print(stones)\n",
    "    stones = blink(stones)\n",
    "\n",
    "print(len(stones))\n",
    "#233875"
   ]
  },
  {
   "cell_type": "markdown",
   "metadata": {},
   "source": [
    "## Part 2 "
   ]
  },
  {
   "cell_type": "code",
   "execution_count": null,
   "metadata": {},
   "outputs": [],
   "source": [
    "stones = []\n",
    "\n",
    "with (open(\"input.txt\", \"r\")) as f:\n",
    "    stones = [int(x) for x in f.read().split()]\n",
    "    \n",
    "\n",
    "for i in range(75):\n",
    "    #print(stones)\n",
    "    stones = blink(stones)\n",
    "\n",
    "print(len(stones))"
   ]
  }
 ],
 "metadata": {
  "kernelspec": {
   "display_name": "Python 3",
   "language": "python",
   "name": "python3"
  },
  "language_info": {
   "codemirror_mode": {
    "name": "ipython",
    "version": 3
   },
   "file_extension": ".py",
   "mimetype": "text/x-python",
   "name": "python",
   "nbconvert_exporter": "python",
   "pygments_lexer": "ipython3",
   "version": "3.8.16"
  }
 },
 "nbformat": 4,
 "nbformat_minor": 2
}
