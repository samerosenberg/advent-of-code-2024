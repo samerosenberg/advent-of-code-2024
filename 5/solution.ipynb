{
 "cells": [
  {
   "cell_type": "markdown",
   "metadata": {},
   "source": [
    "# Day 5: Print Queue\n",
    "\n",
    "[Day 5](https://adventofcode.com/2024/day/5)\n",
    "\n",
    "## Part 1"
   ]
  },
  {
   "cell_type": "code",
   "execution_count": 2,
   "metadata": {},
   "outputs": [
    {
     "name": "stdout",
     "output_type": "stream",
     "text": [
      "4957\n"
     ]
    }
   ],
   "source": [
    "import re\n",
    "\n",
    "rules = {}\n",
    "updates = []\n",
    "\n",
    "def is_update_valid(update):\n",
    "    printed = {}\n",
    "    for page in update:\n",
    "        if page in rules:\n",
    "            for rule in rules[page]:\n",
    "                if rule in printed:\n",
    "                    return False\n",
    "        printed[page] = True\n",
    "    return True\n",
    "\n",
    "\n",
    "with open(\"input.txt\", \"r\") as f:\n",
    "    for line in f:\n",
    "        line = line.strip()\n",
    "        if re.match(r\"\\d+\\|\\d+\", line):\n",
    "            key = int(line.split(\"|\")[0])\n",
    "            value = int(line.split(\"|\")[1])\n",
    "            if key in rules:\n",
    "                rules[key].append(value)\n",
    "            else:\n",
    "                rules[key] = [value]\n",
    "        elif line != '':\n",
    "            pages = line.split(\",\")\n",
    "            updates.append([int(page) for page in pages])\n",
    "\n",
    "middle_pages_sum = 0\n",
    "\n",
    "for update in updates:\n",
    "    if(is_update_valid(update)):\n",
    "        middle_pages_sum += update[len(update) // 2]\n",
    "\n",
    "print(middle_pages_sum)"
   ]
  },
  {
   "cell_type": "markdown",
   "metadata": {},
   "source": [
    "## Part 2"
   ]
  },
  {
   "cell_type": "code",
   "execution_count": 8,
   "metadata": {},
   "outputs": [
    {
     "name": "stdout",
     "output_type": "stream",
     "text": [
      "6938\n"
     ]
    }
   ],
   "source": [
    "from itertools import permutations\n",
    "\n",
    "incorrect_middle_pages_sums = 0\n",
    "\n",
    "def find_valid_index(printed, page, rule, start):\n",
    "    for i in range(start, -1, -1):\n",
    "        if printed[i] not in rules[page]:\n",
    "            return i\n",
    "    return 0\n",
    "\n",
    "def bubble_sort_update(update):\n",
    "    printed = []\n",
    "    for page in update:\n",
    "        page_printed = False\n",
    "        for printed_page in printed:\n",
    "            if printed_page in rules[page]:\n",
    "                printed.insert(printed.index(printed_page), page)\n",
    "                page_printed = True\n",
    "                break\n",
    "        if not page_printed:\n",
    "            printed.append(page)\n",
    "    return printed\n",
    "    \n",
    "\n",
    "for update in updates:\n",
    "    if(not is_update_valid(update)):\n",
    "        valid_update = bubble_sort_update(update)\n",
    "        incorrect_middle_pages_sums += valid_update[len(valid_update)//2]\n",
    "\n",
    "\n",
    "print(incorrect_middle_pages_sums)"
   ]
  }
 ],
 "metadata": {
  "kernelspec": {
   "display_name": "Python 3",
   "language": "python",
   "name": "python3"
  },
  "language_info": {
   "codemirror_mode": {
    "name": "ipython",
    "version": 3
   },
   "file_extension": ".py",
   "mimetype": "text/x-python",
   "name": "python",
   "nbconvert_exporter": "python",
   "pygments_lexer": "ipython3",
   "version": "3.8.16"
  }
 },
 "nbformat": 4,
 "nbformat_minor": 2
}
