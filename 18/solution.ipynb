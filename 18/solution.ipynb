{
 "cells": [
  {
   "cell_type": "markdown",
   "metadata": {},
   "source": [
    "# Day 18: Ram Run\n",
    "\n",
    "[Day 18](https://adventofcode.com/2024/day/18)\n",
    "\n",
    "## Part 1"
   ]
  },
  {
   "cell_type": "code",
   "execution_count": 17,
   "metadata": {},
   "outputs": [
    {
     "name": "stdout",
     "output_type": "stream",
     "text": [
      "326\n"
     ]
    }
   ],
   "source": [
    "def load_falling_bytes(filename):\n",
    "    with open(filename, \"r\") as f:\n",
    "        falling_bytes = [tuple(map(int, line.strip(\"\").split(\",\"))) for line in f] \n",
    "    return falling_bytes\n",
    "\n",
    "def create_corrupted_landscape(rows, cols, falling_bytes, corrupted_bytes):\n",
    "    grid= [[\".\" for _ in range(cols)] for _ in range(rows)]\n",
    "    for i in range(corrupted_bytes):\n",
    "        grid[falling_bytes[i][1]][falling_bytes[i][0]] = \"#\"\n",
    "    return grid\n",
    "\n",
    "from heapq import heappop, heappush\n",
    "\n",
    "def heuristic(a, b):\n",
    "    # Manhattan distance heuristic\n",
    "    return abs(a[0] - b[0]) + abs(a[1] - b[1])\n",
    "\n",
    "def a_star(grid, start, goal):\n",
    "    rows, cols = len(grid), len(grid[0])\n",
    "    open_set = []\n",
    "    heappush(open_set, (0, start))\n",
    "    came_from = {}\n",
    "    g_score = {start: 0}\n",
    "    f_score = {start: heuristic(start, goal)}\n",
    "    \n",
    "    while open_set:\n",
    "        _, current = heappop(open_set)\n",
    "        \n",
    "        if current == goal:\n",
    "            # Reconstruct the path\n",
    "            path = []\n",
    "            while current in came_from:\n",
    "                path.append(current)\n",
    "                current = came_from[current]\n",
    "            path.append(start)\n",
    "            return path[::-1]  # Reverse path\n",
    "\n",
    "        for dx, dy in [(-1, 0), (1, 0), (0, -1), (0, 1)]:  # Four directions\n",
    "            neighbor = (current[0] + dx, current[1] + dy)\n",
    "            if 0 <= neighbor[0] < rows and 0 <= neighbor[1] < cols and grid[neighbor[0]][neighbor[1]] == \".\":  # Check bounds and obstacles\n",
    "                tentative_g_score = g_score[current] + 1\n",
    "                if neighbor not in g_score or tentative_g_score < g_score[neighbor]:\n",
    "                    came_from[neighbor] = current\n",
    "                    g_score[neighbor] = tentative_g_score\n",
    "                    f_score[neighbor] = tentative_g_score + heuristic(neighbor, goal)\n",
    "                    heappush(open_set, (f_score[neighbor], neighbor))\n",
    "    \n",
    "    return None  # No path found\n",
    "\n",
    "size = 70\n",
    "\n",
    "falling_bytes = load_falling_bytes(\"input.txt\")\n",
    "grid = create_corrupted_landscape(size+1, size+1, falling_bytes, 1024) \n",
    "\n",
    "start = (0, 0)\n",
    "goal = (size, size)\n",
    "\n",
    "path = a_star(grid, start, goal)\n",
    "\n",
    "\n",
    "print(len(path)-1)\n"
   ]
  },
  {
   "cell_type": "markdown",
   "metadata": {},
   "source": [
    "## Part 2"
   ]
  },
  {
   "cell_type": "code",
   "execution_count": 19,
   "metadata": {},
   "outputs": [
    {
     "name": "stdout",
     "output_type": "stream",
     "text": [
      "Byte falling onto (18, 62) breaks the path.\n"
     ]
    }
   ],
   "source": [
    "def add_falling_byte(grid, byte):\n",
    "    grid[byte[1]][byte[0]] = \"#\"\n",
    "    return grid\n",
    "\n",
    "size = 70\n",
    "initial_falling_bytes = 1024\n",
    "\n",
    "falling_bytes = load_falling_bytes(\"input.txt\")\n",
    "grid = create_corrupted_landscape(size+1, size+1, falling_bytes, initial_falling_bytes) \n",
    "\n",
    "start = (0, 0)\n",
    "goal = (size, size)\n",
    "\n",
    "path = a_star(grid, start, goal)\n",
    "\n",
    "for i in range(initial_falling_bytes,len(falling_bytes)):\n",
    "    grid = add_falling_byte(grid, falling_bytes[i])\n",
    "    path = a_star(grid, start, goal)\n",
    "    if path is None:\n",
    "        print(f\"Byte falling onto {falling_bytes[i]} breaks the path.\")\n",
    "        break"
   ]
  }
 ],
 "metadata": {
  "kernelspec": {
   "display_name": "Python 3",
   "language": "python",
   "name": "python3"
  },
  "language_info": {
   "codemirror_mode": {
    "name": "ipython",
    "version": 3
   },
   "file_extension": ".py",
   "mimetype": "text/x-python",
   "name": "python",
   "nbconvert_exporter": "python",
   "pygments_lexer": "ipython3",
   "version": "3.8.16"
  }
 },
 "nbformat": 4,
 "nbformat_minor": 2
}
