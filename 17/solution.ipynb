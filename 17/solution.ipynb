{
 "cells": [
  {
   "cell_type": "markdown",
   "metadata": {},
   "source": [
    "# Day 17: Chronospatial Computer\n",
    "\n",
    "[Day 17](https://adventofcode.com/2024/day/17)\n",
    "\n",
    "## Part 1"
   ]
  },
  {
   "cell_type": "code",
   "execution_count": 4,
   "metadata": {},
   "outputs": [
    {
     "name": "stdout",
     "output_type": "stream",
     "text": [
      "Output: 4,6,3,5,6,3,5,2,1,0,, A: 0, B: 0, C: 0\n"
     ]
    }
   ],
   "source": [
    "#read in the file\n",
    "def load_program(file_path):\n",
    "    with open(file_path, 'r') as f:\n",
    "        program = []\n",
    "        for line in f:\n",
    "            if line.strip().split(\":\")[0].startswith(\"Register\"):\n",
    "                if line.strip().split(\":\")[0] == \"Register A\":\n",
    "                    a = int(line.strip().split(\":\")[1])\n",
    "                elif line.strip().split(\":\")[0] == \"Register B\":\n",
    "                    b = int(line.strip().split(\":\")[1])\n",
    "                elif line.strip().split(\":\")[0] == \"Register C\":\n",
    "                    c = int(line.strip().split(\":\")[1])\n",
    "            elif line.strip().split(\":\")[0].startswith(\"Program\"):\n",
    "                program = line.split(\":\")[1].strip().split(\",\")\n",
    "    return a, b, c, program\n",
    "\n",
    "\n",
    "def perform_opcode(a, b, c, i, opcode, operand, output):\n",
    "    if opcode == \"0\":\n",
    "        a = a // (2 ** get_operand(a, b, c,operand, True))\n",
    "    elif opcode == \"1\":\n",
    "        b = b ^ get_operand(a, b, c,operand)\n",
    "    elif opcode == \"2\":\n",
    "        b = get_operand(a, b, c,operand, True) % 8\n",
    "    elif opcode == \"3\":\n",
    "        if a != 0:\n",
    "            i = get_operand(a, b, c,operand)\n",
    "            return a, b, c, i, output\n",
    "    elif opcode == \"4\":\n",
    "        b = b ^ c\n",
    "    elif opcode == \"5\":\n",
    "        output += str(get_operand(a, b, c, operand, True) % 8) + \",\"\n",
    "    elif opcode == \"6\":\n",
    "        b = a // (2 ** get_operand(a, b, c,operand, True))\n",
    "    elif opcode == \"7\":\n",
    "        c = a // (2 ** get_operand(a, b, c,operand, True))\n",
    "    i += 2\n",
    "    return a, b, c, i, output\n",
    "\n",
    "def get_operand(a, b, c, operand, is_combo=False):\n",
    "    if not is_combo or int(operand) <= 3: \n",
    "        return int(operand)\n",
    "    elif operand == \"4\":\n",
    "        return a\n",
    "    elif operand == \"5\":\n",
    "        return b\n",
    "    elif operand == \"6\":\n",
    "        return c\n",
    "\n",
    "a, b, c, program = load_program(\"test_input.txt\")\n",
    "i = 0\n",
    "output = \"\"\n",
    "\n",
    "while i < len(program):\n",
    "    opcode = program[i]\n",
    "    operand = program[i+1]\n",
    "    a, b, c, i, output = perform_opcode(a, b, c, i, opcode, operand, output)\n",
    "\n",
    "print(f\"Output: {output}, A: {a}, B: {b}, C: {c}\")"
   ]
  },
  {
   "cell_type": "markdown",
   "metadata": {},
   "source": [
    "## Part 2"
   ]
  },
  {
   "cell_type": "code",
   "execution_count": null,
   "metadata": {},
   "outputs": [],
   "source": [
    "found = False\n",
    "\n",
    "a_start, b_start, c_start, program = load_program(\"input.txt\")\n",
    "j = 1\n",
    "final_output = \",\".join(program)\n",
    "\n",
    "while not found:\n",
    "    a = j\n",
    "    b = b_start\n",
    "    c = c_start\n",
    "    i = 0\n",
    "    output = \"\"\n",
    "    while i < len(program):\n",
    "        opcode = program[i]\n",
    "        operand = program[i+1]\n",
    "        a, b, c, i, output = perform_opcode(a, b, c, i, opcode, operand, output)\n",
    "        if len(output) > 0 and not final_output.startswith(output):\n",
    "            break\n",
    "        if len(output) > 6:\n",
    "            print(f\"Output: {output}, j: {j}\")\n",
    "    output = output[:-1]\n",
    "    if final_output == output[:-1]:\n",
    "        found = True\n",
    "        print(j)\n",
    "        break\n",
    "    j += 1"
   ]
  }
 ],
 "metadata": {
  "kernelspec": {
   "display_name": "Python 3",
   "language": "python",
   "name": "python3"
  },
  "language_info": {
   "codemirror_mode": {
    "name": "ipython",
    "version": 3
   },
   "file_extension": ".py",
   "mimetype": "text/x-python",
   "name": "python",
   "nbconvert_exporter": "python",
   "pygments_lexer": "ipython3",
   "version": "3.8.16"
  }
 },
 "nbformat": 4,
 "nbformat_minor": 2
}
