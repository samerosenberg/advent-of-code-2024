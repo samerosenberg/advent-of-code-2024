{
 "cells": [
  {
   "cell_type": "markdown",
   "metadata": {},
   "source": [
    "# Day 2: Red-Nosed Reports\n",
    "\n",
    "[Day 2](https://adventofcode.com/2024/day/2)\n",
    "\n",
    "## Part 1\n"
   ]
  },
  {
   "cell_type": "code",
   "execution_count": 13,
   "metadata": {},
   "outputs": [],
   "source": [
    "def is_safe(report):\n",
    "    report_level_increasing = sorted(report)\n",
    "    report_level_decreasing = sorted(report, reverse=True)\n",
    "    if report == report_level_increasing or report == report_level_decreasing:\n",
    "        level_changes = [abs(report[i] - report[i+1]) for i in range(len(report)-1)]\n",
    "        if min(level_changes) >=1 and max(level_changes) <= 3: \n",
    "            return True\n",
    "\n",
    "    return False"
   ]
  },
  {
   "cell_type": "code",
   "execution_count": 14,
   "metadata": {},
   "outputs": [
    {
     "name": "stdout",
     "output_type": "stream",
     "text": [
      "220\n"
     ]
    }
   ],
   "source": [
    "safe_reports_part_1 = 0\n",
    "reports = []\n",
    "\n",
    "with open('input.txt', 'r') as file:\n",
    "    for line in file:\n",
    "        report_str = line.split()\n",
    "        report = [int(report_str[i]) for i in range(len(report_str))]\n",
    "        reports.append(report)\n",
    "\n",
    "for report in reports:\n",
    "    safe_reports_part_1 += int(is_safe(report)) \n",
    "        \n",
    "\n",
    "print(safe_reports_part_1)"
   ]
  },
  {
   "cell_type": "markdown",
   "metadata": {},
   "source": [
    "## Part 2"
   ]
  },
  {
   "cell_type": "code",
   "execution_count": 15,
   "metadata": {},
   "outputs": [
    {
     "name": "stdout",
     "output_type": "stream",
     "text": [
      "296\n"
     ]
    }
   ],
   "source": [
    "safe_reports_part_2 = 0\n",
    "\n",
    "for report in reports:\n",
    "    if is_safe(report):\n",
    "        safe_reports_part_2 += 1\n",
    "    else:\n",
    "        for i in range(len(report)):\n",
    "            tolerated_report = [report[x] for x in range(len(report)) if x != i]\n",
    "            if is_safe(tolerated_report):\n",
    "                safe_reports_part_2 += 1\n",
    "                break\n",
    "\n",
    "print(safe_reports_part_2)"
   ]
  }
 ],
 "metadata": {
  "kernelspec": {
   "display_name": "Python 3",
   "language": "python",
   "name": "python3"
  },
  "language_info": {
   "codemirror_mode": {
    "name": "ipython",
    "version": 3
   },
   "file_extension": ".py",
   "mimetype": "text/x-python",
   "name": "python",
   "nbconvert_exporter": "python",
   "pygments_lexer": "ipython3",
   "version": "3.8.16"
  }
 },
 "nbformat": 4,
 "nbformat_minor": 2
}
