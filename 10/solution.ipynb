{
 "cells": [
  {
   "cell_type": "markdown",
   "metadata": {},
   "source": [
    "# Day 10: Hoof It\n",
    "\n",
    "[Day 10](https://adventofcode.com/2024/day/10)\n",
    "\n",
    "## Part 1"
   ]
  },
  {
   "cell_type": "code",
   "execution_count": 23,
   "metadata": {},
   "outputs": [
    {
     "name": "stdout",
     "output_type": "stream",
     "text": [
      "629\n"
     ]
    }
   ],
   "source": [
    "def load_grid(file_path):\n",
    "    with open(file_path, 'r') as f:\n",
    "        grid = []\n",
    "        for line in f:\n",
    "            grid.append([int(x) for x in line.strip()])\n",
    "        return grid\n",
    "\n",
    "\n",
    "def find_trails(grid, row, col, prev, path=None):\n",
    "    if path is None:\n",
    "        path = []\n",
    "\n",
    "    if row < 0 or row >= len(grid) or col < 0 or col >= len(grid[0]):\n",
    "        return []\n",
    "\n",
    "    if grid[row][col] - 1 != prev:\n",
    "        return []\n",
    "\n",
    "    path.append((row, col))\n",
    "\n",
    "    if prev == 8 and grid[row][col] == 9:\n",
    "        all_path = [path.copy()]\n",
    "        path.pop()\n",
    "        return all_path\n",
    "\n",
    "    \n",
    "    valid_paths = []\n",
    "    valid_paths.extend(find_trails(grid, row - 1, col, grid[row][col], path) )\n",
    "    valid_paths.extend(find_trails(grid, row + 1, col, grid[row][col],  path) )\n",
    "    valid_paths.extend(find_trails(grid, row, col + 1, grid[row][col], path) )\n",
    "    valid_paths.extend(find_trails(grid, row, col - 1, grid[row][col], path))\n",
    "\n",
    "    path.pop()\n",
    "\n",
    "    return valid_paths\n",
    "    \n",
    "\n",
    "def find_trailheads(grid):\n",
    "    total_trails = 0\n",
    "    for row in range(len(grid)):\n",
    "        for col in range(len(grid[0])):\n",
    "            peaks = {}\n",
    "            if grid[row][col] == 0:\n",
    "                all_trails = find_trails(grid, row, col, -1)\n",
    "                for trail in all_trails:\n",
    "                    if trail[9] not in peaks:\n",
    "                        peaks[trail[9]] = 1\n",
    "                total_trails += len(peaks.keys())\n",
    "    \n",
    "    return total_trails\n",
    "\n",
    "grid = load_grid(\"input.txt\")\n",
    "\n",
    "# print(grid)\n",
    "\n",
    "print(find_trailheads(grid))"
   ]
  },
  {
   "cell_type": "markdown",
   "metadata": {},
   "source": [
    "## Part 2"
   ]
  },
  {
   "cell_type": "code",
   "execution_count": 22,
   "metadata": {},
   "outputs": [
    {
     "name": "stdout",
     "output_type": "stream",
     "text": [
      "1242\n"
     ]
    }
   ],
   "source": [
    "def find_trailheads(grid):\n",
    "    total_trails = 0\n",
    "    for row in range(len(grid)):\n",
    "        for col in range(len(grid[0])):\n",
    "            peaks = {}\n",
    "            if grid[row][col] == 0:\n",
    "                total_trails += len(find_trails(grid, row, col, -1))\n",
    "                \n",
    "    \n",
    "    return total_trails\n",
    "\n",
    "grid = load_grid(\"input.txt\")\n",
    "\n",
    "# print(grid)\n",
    "\n",
    "print(find_trailheads(grid))"
   ]
  }
 ],
 "metadata": {
  "kernelspec": {
   "display_name": "Python 3",
   "language": "python",
   "name": "python3"
  },
  "language_info": {
   "codemirror_mode": {
    "name": "ipython",
    "version": 3
   },
   "file_extension": ".py",
   "mimetype": "text/x-python",
   "name": "python",
   "nbconvert_exporter": "python",
   "pygments_lexer": "ipython3",
   "version": "3.8.16"
  }
 },
 "nbformat": 4,
 "nbformat_minor": 2
}
